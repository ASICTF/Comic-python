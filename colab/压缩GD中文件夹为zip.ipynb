{
  "nbformat": 4,
  "nbformat_minor": 0,
  "metadata": {
    "colab": {
      "name": "压缩GD中文件夹为zip.ipynb",
      "provenance": [],
      "collapsed_sections": [],
      "authorship_tag": "ABX9TyNqbR5jytL4cQyRPh6A0QbO",
      "include_colab_link": true
    },
    "kernelspec": {
      "name": "python3",
      "display_name": "Python 3"
    },
    "language_info": {
      "name": "python"
    }
  },
  "cells": [
    {
      "cell_type": "markdown",
      "metadata": {
        "id": "view-in-github",
        "colab_type": "text"
      },
      "source": [
        "<a href=\"https://colab.research.google.com/github/RicardoWR/Comic-python/blob/main/%E5%8E%8B%E7%BC%A9GD%E4%B8%AD%E6%96%87%E4%BB%B6%E5%A4%B9%E4%B8%BAzip.ipynb\" target=\"_parent\"><img src=\"https://colab.research.google.com/assets/colab-badge.svg\" alt=\"Open In Colab\"/></a>"
      ]
    },
    {
      "cell_type": "markdown",
      "source": [
        "### <font size=5px color=\"#95C7AE\">防止Google Colab自动断开代码:</font>\n",
        "<p><font size=3px > 每60分钟自动运行代码刷新，解除90分钟断开限制.\n",
        "<p><font size=3px > 使用方法：colab页面按下 F12或者 Ctrl+Shift+I    (mac按 Option+Command+I) 在console（控制台） 输入以下代码并回车. </p><b>复制以下代码粘贴在浏览器console！！不要关闭浏览器以免失效</b>\n",
        "\n",
        "\n",
        "```javascript\n",
        "function ConnectButton(){\n",
        "    console.log(\"Connect pushed\"); \n",
        "    document.querySelector(\"#connect\").click() \n",
        "}\n",
        "setInterval(ConnectButton,60000);\n",
        "```"
      ],
      "metadata": {
        "id": "HmHX-rZS_EZs"
      }
    },
    {
      "cell_type": "code",
      "source": [
        "#@markdown <h3>← 输入了代码后运行以防止断开</h>\n",
        "\n",
        "\n",
        "import IPython\n",
        "from google.colab import output\n",
        "\n",
        "display(IPython.display.Javascript('''\n",
        " function ClickConnect(){\n",
        "   btn = document.querySelector(\"colab-connect-button\")\n",
        "   if (btn != null){\n",
        "     console.log(\"Click colab-connect-button\"); \n",
        "     btn.click() \n",
        "     }\n",
        "   \n",
        "   btn = document.getElementById('ok')\n",
        "   if (btn != null){\n",
        "     console.log(\"Click reconnect\"); \n",
        "     btn.click() \n",
        "     }\n",
        "  }\n",
        "  \n",
        "setInterval(ClickConnect,60000)\n",
        "'''))\n",
        "\n",
        "print(\"Done.\")"
      ],
      "metadata": {
        "cellView": "form",
        "id": "nWpkw0Zh_IGs"
      },
      "execution_count": null,
      "outputs": []
    },
    {
      "cell_type": "markdown",
      "source": [
        "# **第一步 绑定GoogleDrive**\n"
      ],
      "metadata": {
        "id": "luFETvjX_V0J"
      }
    },
    {
      "cell_type": "code",
      "source": [
        "#@markdown  点击左侧按钮，授权绑定GoogleDrive\n",
        "from google.colab import drive\n",
        "drive.mount('/content/drive')"
      ],
      "metadata": {
        "cellView": "form",
        "id": "nf4Eg03O_Zz8"
      },
      "execution_count": null,
      "outputs": []
    },
    {
      "cell_type": "markdown",
      "source": [
        "# **第二步 设置压缩目录**\n"
      ],
      "metadata": {
        "id": "cbxZYLra_gWV"
      }
    },
    {
      "cell_type": "code",
      "source": [
        "import os, zipfile\n",
        "\n",
        "def make_zip(source_dir, output_filename):\n",
        "    zipf = zipfile.ZipFile(output_filename, 'w')  \n",
        "    保留文件夹 = True #@param {type:\"boolean\"}  \n",
        "    if not 保留文件夹:\n",
        "        pre_len = len(source_dir)\n",
        "    else:\n",
        "        pre_len = len(os.path.dirname(source_dir))\n",
        "    for parent, dirnames, filenames in os.walk(source_dir):\n",
        "        for filename in filenames:\n",
        "            pathfile = os.path.join(parent, filename)\n",
        "            arcname = pathfile[pre_len:].strip(os.path.sep)     #相对路径\n",
        "            zipf.write(pathfile, arcname)\n",
        "    zipf.close()\n",
        "    \n",
        "#@markdown <font size=\"4\" color=red><b>source_dir</b></font>  要压缩的目录\n",
        "\n",
        "source_dir =  \"\" #@param {type:\"string\"}\n",
        "\n",
        "#@markdown <font size=\"4\" color=red><b>zipFile</b></font>  压缩输出的目录\n",
        "\n",
        "zipFile = \"\" #@param {type:\"string\"}\n",
        "\n",
        "for parent, dirnames, filenames in os.walk(source_dir):\n",
        "    for dirname in dirnames:\n",
        "        dirpath = os.path.join(parent,dirname)\n",
        "        dir_zipFile = os.path.join(zipFile, dirname) + \".zip\"\n",
        "        make_zip(dirpath,dir_zipFile)\n",
        "print(\"Success\")"
      ],
      "metadata": {
        "id": "DqE7TTSG_rpI",
        "cellView": "form"
      },
      "execution_count": null,
      "outputs": []
    }
  ]
}
